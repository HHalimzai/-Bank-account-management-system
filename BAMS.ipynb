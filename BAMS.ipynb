{
 "cells": [
  {
   "cell_type": "code",
   "execution_count": 1,
   "id": "2cd7afed",
   "metadata": {},
   "outputs": [
    {
     "name": "stdout",
     "output_type": "stream",
     "text": [
      "Defaulting to user installation because normal site-packages is not writeable\n"
     ]
    },
    {
     "name": "stderr",
     "output_type": "stream",
     "text": [
      "ERROR: Could not find a version that satisfies the requirement tkinter (from versions: none)\n",
      "ERROR: No matching distribution found for tkinter\n"
     ]
    }
   ],
   "source": [
    "!pip install tkinter\n",
    "import tkinter as tk"
   ]
  },
  {
   "cell_type": "code",
   "execution_count": 2,
   "id": "41c60c14",
   "metadata": {},
   "outputs": [],
   "source": [
    "from tkinter import messagebox\n",
    "\n",
    "class BankApp:\n",
    "    def __init__(self, root):\n",
    "        self.root = root\n",
    "        self.root.title(\"Simple Bank System\")\n",
    "        self.root.geometry(\"300x300\")\n",
    "\n",
    "        self.accounts = {}\n",
    "\n",
    "        # UI Components\n",
    "        tk.Label(root, text=\"Name:\").pack()\n",
    "        self.entry_name = tk.Entry(root)\n",
    "        self.entry_name.pack()\n",
    "\n",
    "        tk.Label(root, text=\"Amount:\").pack()\n",
    "        self.entry_amount = tk.Entry(root)\n",
    "        self.entry_amount.pack()\n",
    "\n",
    "        tk.Button(root, text=\"Create Account\", command=self.create_account).pack(pady=5)\n",
    "        tk.Button(root, text=\"Deposit\", command=self.deposit).pack(pady=5)\n",
    "        tk.Button(root, text=\"Withdraw\", command=self.withdraw).pack(pady=5)\n",
    "        tk.Button(root, text=\"Check Balance\", command=self.check_balance).pack(pady=5)\n",
    "\n",
    "    def create_account(self):\n",
    "        name = self.entry_name.get()\n",
    "        if name == \"\":\n",
    "            messagebox.showwarning(\"Warning\", \"Enter a name!\")\n",
    "        elif name in self.accounts:\n",
    "            messagebox.showinfo(\"Info\", \"Account already exists.\")\n",
    "        else:\n",
    "            self.accounts[name] = 0\n",
    "            messagebox.showinfo(\"Success\", f\"Account created for {name}.\")\n",
    "\n",
    "    def deposit(self):\n",
    "        name = self.entry_name.get()\n",
    "        amount = self.entry_amount.get()\n",
    "        if name in self.accounts:\n",
    "            try:\n",
    "                amount = float(amount)\n",
    "                self.accounts[name] += amount\n",
    "                messagebox.showinfo(\"Success\", f\"{amount} deposited to {name}'s account.\")\n",
    "            except ValueError:\n",
    "                messagebox.showerror(\"Error\", \"Enter a valid amount.\")\n",
    "        else:\n",
    "            messagebox.showerror(\"Error\", \"Account not found.\")\n",
    "\n",
    "    def withdraw(self):\n",
    "        name = self.entry_name.get()\n",
    "        amount = self.entry_amount.get()\n",
    "        if name in self.accounts:\n",
    "            try:\n",
    "                amount = float(amount)\n",
    "                if self.accounts[name] >= amount:\n",
    "                    self.accounts[name] -= amount\n",
    "                    messagebox.showinfo(\"Success\", f\"{amount} withdrawn from {name}'s account.\")\n",
    "                else:\n",
    "                    messagebox.showwarning(\"Warning\", \"Not enough balance.\")\n",
    "            except ValueError:\n",
    "                messagebox.showerror(\"Error\", \"Enter a valid amount.\")\n",
    "        else:\n",
    "            messagebox.showerror(\"Error\", \"Account not found.\")\n",
    "\n",
    "    def check_balance(self):\n",
    "        name = self.entry_name.get()\n",
    "        if name in self.accounts:\n",
    "            balance = self.accounts[name]\n",
    "            messagebox.showinfo(\"Balance\", f\"{name}'s balance: {balance}\")\n",
    "        else:\n",
    "            messagebox.showerror(\"Error\", \"Account not found.\")\n",
    "\n",
    "# Run the app\n",
    "if __name__ == \"__main__\":\n",
    "    root = tk.Tk()\n",
    "    app = BankApp(root)\n",
    "    root.mainloop()\n"
   ]
  }
 ],
 "metadata": {
  "kernelspec": {
   "display_name": "Python 3",
   "language": "python",
   "name": "python3"
  },
  "language_info": {
   "codemirror_mode": {
    "name": "ipython",
    "version": 3
   },
   "file_extension": ".py",
   "mimetype": "text/x-python",
   "name": "python",
   "nbconvert_exporter": "python",
   "pygments_lexer": "ipython3",
   "version": "3.13.0"
  }
 },
 "nbformat": 4,
 "nbformat_minor": 5
}
